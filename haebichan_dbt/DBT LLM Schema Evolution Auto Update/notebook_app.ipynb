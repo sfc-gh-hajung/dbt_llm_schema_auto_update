{
 "metadata": {
  "kernelspec": {
   "display_name": "Streamlit Notebook",
   "name": "streamlit"
  }
 },
 "nbformat_minor": 5,
 "nbformat": 4,
 "cells": [
  {
   "cell_type": "code",
   "id": "3775908f-ca36-4846-8f38-5adca39217f2",
   "metadata": {
    "language": "python",
    "name": "cell1",
    "resultHeight": 0
   },
   "source": "# Import python packages\nimport streamlit as st\nimport pandas as pd\n\n# We can also use Snowpark for our analyses!\nfrom snowflake.snowpark.context import get_active_session\nsession = get_active_session()\n",
   "execution_count": null,
   "outputs": []
  },
  {
   "cell_type": "code",
   "id": "8d50cbf4-0c8d-4950-86cb-114990437ac9",
   "metadata": {
    "language": "python",
    "name": "cell2",
    "codeCollapsed": false,
    "resultHeight": 738
   },
   "source": "with open('models/transform_bronze_customers.sql', \"r\") as file:\n    sql_query = file.read()\n\nprint(sql_query)",
   "execution_count": null,
   "outputs": []
  },
  {
   "cell_type": "code",
   "id": "c812f313-72f3-4c79-8398-8a4516a97e1d",
   "metadata": {
    "language": "python",
    "name": "cell5",
    "resultHeight": 335
   },
   "outputs": [],
   "source": "# Define the file path under the models directory\noutput_file = \"models/transform_dummy.sql\"\n\noutput_file = \"\"\"snow://notebook/CORTEX_LLM_ETL.SCHEMA_EVOLUTION_DBT.\"DBT LLM Schema Evolution Auto Update\"/versions/live/models/transform_dummy.sql\"\"\"\n\n# Save the sql_query content into the specified file\nwith open(output_file, \"w\") as file:\n    file.write(sql_query)\n\nprint(f\"SQL query saved to {output_file}\")",
   "execution_count": null
  },
  {
   "cell_type": "code",
   "id": "c695373e-ac74-4b62-a1f1-08206cbd5c81",
   "metadata": {
    "language": "python",
    "name": "cell3",
    "codeCollapsed": false,
    "resultHeight": 738
   },
   "source": "\nwith open('models/transform_dummy.sql', \"r\") as file:\n    sql_query = file.read()\n    \nprint(sql_query)",
   "execution_count": null,
   "outputs": []
  },
  {
   "cell_type": "code",
   "id": "f1b12043-f33b-4ed7-95db-1b31051d4a7d",
   "metadata": {
    "language": "python",
    "name": "cell4",
    "codeCollapsed": false,
    "resultHeight": 87
   },
   "outputs": [],
   "source": "",
   "execution_count": null
  },
  {
   "cell_type": "code",
   "id": "f3cb6d48-cd18-412d-a284-ede2403636ea",
   "metadata": {
    "language": "python",
    "name": "cell6",
    "codeCollapsed": false
   },
   "outputs": [],
   "source": "",
   "execution_count": null
  }
 ]
}